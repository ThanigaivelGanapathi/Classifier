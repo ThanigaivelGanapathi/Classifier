{
 "cells": [
  {
   "cell_type": "code",
   "execution_count": 1,
   "id": "a62b7d5e-4bfb-437d-9c95-2dabdd4e68ca",
   "metadata": {},
   "outputs": [],
   "source": [
    "import pickle"
   ]
  },
  {
   "cell_type": "code",
   "execution_count": 3,
   "id": "0cfa05c4-cd0b-4266-88dd-f0333036373e",
   "metadata": {},
   "outputs": [],
   "source": [
    "classifier = pickle.load(open(\"Classifier_Final_Model.sav\",\"rb\"))"
   ]
  },
  {
   "cell_type": "code",
   "execution_count": 5,
   "id": "3ebed1dd-90ad-4564-bebe-6b4506f7f705",
   "metadata": {},
   "outputs": [
    {
     "name": "stdin",
     "output_type": "stream",
     "text": [
      "Enter the User ID :  15733883\n",
      "Enter the Gender :  m\n",
      "Enter the Age :  47\n",
      "Enter the Salary :  25000\n"
     ]
    },
    {
     "name": "stdout",
     "output_type": "stream",
     "text": [
      "\n",
      "\n",
      "As per the data, the user will Purchase\n"
     ]
    },
    {
     "name": "stderr",
     "output_type": "stream",
     "text": [
      "C:\\Anaconda3\\Lib\\site-packages\\sklearn\\base.py:493: UserWarning: X does not have valid feature names, but RandomForestClassifier was fitted with feature names\n",
      "  warnings.warn(\n"
     ]
    }
   ],
   "source": [
    "#inputs\n",
    "userID = int(input(\"Enter the User ID : \"))\n",
    "gender = input(\"Enter the Gender : \")\n",
    "age = int(input(\"Enter the Age : \"))\n",
    "salary = int(input(\"Enter the Salary : \"))\n",
    "\n",
    "#Converting Nominal data to number\n",
    "gender = 1 if gender.upper() == \"M\" else 0\n",
    "\n",
    "#Predicting the value\n",
    "res = classifier.predict([[userID,age,salary,gender]])\n",
    " \n",
    "userDecision = \"Purchase\" if res[0] == 1 else \"Not Purchase\"\n",
    "\n",
    "print(f\"\\n\\nAs per the data, the user will {userDecision}\")\n",
    " "
   ]
  },
  {
   "cell_type": "code",
   "execution_count": null,
   "id": "cafd351d-a2fa-4df0-afdd-9a63a15d3955",
   "metadata": {},
   "outputs": [],
   "source": []
  },
  {
   "cell_type": "code",
   "execution_count": null,
   "id": "11f30000-12fc-4390-ba68-095af770a315",
   "metadata": {},
   "outputs": [],
   "source": []
  }
 ],
 "metadata": {
  "kernelspec": {
   "display_name": "Python [conda env:base] *",
   "language": "python",
   "name": "conda-base-py"
  },
  "language_info": {
   "codemirror_mode": {
    "name": "ipython",
    "version": 3
   },
   "file_extension": ".py",
   "mimetype": "text/x-python",
   "name": "python",
   "nbconvert_exporter": "python",
   "pygments_lexer": "ipython3",
   "version": "3.12.7"
  }
 },
 "nbformat": 4,
 "nbformat_minor": 5
}
